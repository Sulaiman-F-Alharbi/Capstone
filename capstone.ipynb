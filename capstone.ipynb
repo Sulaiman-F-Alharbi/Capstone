{
 "cells": [
  {
   "cell_type": "code",
   "execution_count": 2,
   "metadata": {},
   "outputs": [],
   "source": [
    "import openai\n",
    "import json\n",
    "\n",
    "import base64\n",
    "import requests\n",
    "\n",
    "import pandas as pd\n",
    "import numpy as np\n",
    "\n",
    "import uuid\n",
    "import os"
   ]
  },
  {
   "cell_type": "markdown",
   "metadata": {},
   "source": [
    "### Reading descriptions dataset"
   ]
  },
  {
   "cell_type": "code",
   "execution_count": 73,
   "metadata": {},
   "outputs": [
    {
     "data": {
      "text/html": [
       "<div>\n",
       "<style scoped>\n",
       "    .dataframe tbody tr th:only-of-type {\n",
       "        vertical-align: middle;\n",
       "    }\n",
       "\n",
       "    .dataframe tbody tr th {\n",
       "        vertical-align: top;\n",
       "    }\n",
       "\n",
       "    .dataframe thead th {\n",
       "        text-align: right;\n",
       "    }\n",
       "</style>\n",
       "<table border=\"1\" class=\"dataframe\">\n",
       "  <thead>\n",
       "    <tr style=\"text-align: right;\">\n",
       "      <th></th>\n",
       "      <th>Case_ID</th>\n",
       "      <th>First_Party</th>\n",
       "      <th>Second_Party</th>\n",
       "      <th>Image_ID</th>\n",
       "    </tr>\n",
       "  </thead>\n",
       "  <tbody>\n",
       "  </tbody>\n",
       "</table>\n",
       "</div>"
      ],
      "text/plain": [
       "Empty DataFrame\n",
       "Columns: [Case_ID, First_Party, Second_Party, Image_ID]\n",
       "Index: []"
      ]
     },
     "execution_count": 73,
     "metadata": {},
     "output_type": "execute_result"
    }
   ],
   "source": [
    "\n",
    "descrip_df = pd.DataFrame(columns=[\"Case_ID\", \"First_Party\", \"Second_Party\", \"Image_ID\"])\n",
    "descrip_df.head()"
   ]
  },
  {
   "cell_type": "code",
   "execution_count": 3,
   "metadata": {},
   "outputs": [],
   "source": [
    "descrip_df = pd.read_csv(\"data\\data_descriptions_all.csv\")"
   ]
  },
  {
   "cell_type": "code",
   "execution_count": 191,
   "metadata": {},
   "outputs": [
    {
     "data": {
      "text/html": [
       "<div>\n",
       "<style scoped>\n",
       "    .dataframe tbody tr th:only-of-type {\n",
       "        vertical-align: middle;\n",
       "    }\n",
       "\n",
       "    .dataframe tbody tr th {\n",
       "        vertical-align: top;\n",
       "    }\n",
       "\n",
       "    .dataframe thead th {\n",
       "        text-align: right;\n",
       "    }\n",
       "</style>\n",
       "<table border=\"1\" class=\"dataframe\">\n",
       "  <thead>\n",
       "    <tr style=\"text-align: right;\">\n",
       "      <th></th>\n",
       "      <th>Case_ID</th>\n",
       "      <th>First_Party</th>\n",
       "      <th>Second_Party</th>\n",
       "      <th>Image_ID</th>\n",
       "    </tr>\n",
       "  </thead>\n",
       "  <tbody>\n",
       "    <tr>\n",
       "      <th>0</th>\n",
       "      <td>7c23480e-662e-4e8d-980e-b928d6fd0b90</td>\n",
       "      <td>كنت أقود باتجاه التقاطع وكان الضوء الأخضر في ص...</td>\n",
       "      <td>كنت أقود في الطريق ولم ألاحظ أن الإشارة كانت ح...</td>\n",
       "      <td>image.png</td>\n",
       "    </tr>\n",
       "    <tr>\n",
       "      <th>1</th>\n",
       "      <td>7c23480e-662e-4e8d-980e-b928d6fd0b90</td>\n",
       "      <td>كنت أقود عند التقاطع وكانت الإشارة خضراء لي، و...</td>\n",
       "      <td>كنت أقود وأتبع كل القواعد. وفجأة جاءت السيارة ...</td>\n",
       "      <td>image.png</td>\n",
       "    </tr>\n",
       "    <tr>\n",
       "      <th>2</th>\n",
       "      <td>7c23480e-662e-4e8d-980e-b928d6fd0b90</td>\n",
       "      <td>كنت أقود وفقًا للقانون والإشارة كانت خضراء بال...</td>\n",
       "      <td>كنت أقود ولم ألاحظ أن الإشارة كانت خضراء لي ول...</td>\n",
       "      <td>image.png</td>\n",
       "    </tr>\n",
       "    <tr>\n",
       "      <th>3</th>\n",
       "      <td>7c23480e-662e-4e8d-980e-b928d6fd0b90</td>\n",
       "      <td>كنت أقود باتجاه التقاطع وأعتقد أنني كنت من الم...</td>\n",
       "      <td>كنت أقود وألاحظ أن الإشارة كانت خضراء بالنسبة ...</td>\n",
       "      <td>image.png</td>\n",
       "    </tr>\n",
       "  </tbody>\n",
       "</table>\n",
       "</div>"
      ],
      "text/plain": [
       "                                Case_ID  \\\n",
       "0  7c23480e-662e-4e8d-980e-b928d6fd0b90   \n",
       "1  7c23480e-662e-4e8d-980e-b928d6fd0b90   \n",
       "2  7c23480e-662e-4e8d-980e-b928d6fd0b90   \n",
       "3  7c23480e-662e-4e8d-980e-b928d6fd0b90   \n",
       "\n",
       "                                         First_Party  \\\n",
       "0  كنت أقود باتجاه التقاطع وكان الضوء الأخضر في ص...   \n",
       "1  كنت أقود عند التقاطع وكانت الإشارة خضراء لي، و...   \n",
       "2  كنت أقود وفقًا للقانون والإشارة كانت خضراء بال...   \n",
       "3  كنت أقود باتجاه التقاطع وأعتقد أنني كنت من الم...   \n",
       "\n",
       "                                        Second_Party   Image_ID  \n",
       "0  كنت أقود في الطريق ولم ألاحظ أن الإشارة كانت ح...  image.png  \n",
       "1  كنت أقود وأتبع كل القواعد. وفجأة جاءت السيارة ...  image.png  \n",
       "2  كنت أقود ولم ألاحظ أن الإشارة كانت خضراء لي ول...  image.png  \n",
       "3  كنت أقود وألاحظ أن الإشارة كانت خضراء بالنسبة ...  image.png  "
      ]
     },
     "execution_count": 191,
     "metadata": {},
     "output_type": "execute_result"
    }
   ],
   "source": [
    "descrip_df.head()"
   ]
  },
  {
   "cell_type": "markdown",
   "metadata": {},
   "source": [
    "### Starting connection with openai API"
   ]
  },
  {
   "cell_type": "code",
   "execution_count": 4,
   "metadata": {},
   "outputs": [],
   "source": [
    "api_key = \"sk-proj-UxsihIsXy5aq4Dq3G2DuT3BlbkFJwOAd6S4hvjcZN3nsCKvO\"\n",
    "openai.api_key = api_key"
   ]
  },
  {
   "cell_type": "markdown",
   "metadata": {},
   "source": [
    "#### Get the descriptions by sending the image to chat-gpt 4o"
   ]
  },
  {
   "cell_type": "code",
   "execution_count": 5,
   "metadata": {},
   "outputs": [],
   "source": [
    "#encoding function to encode the images before sending it to the API\n",
    "def encode_image(image_path):\n",
    "  with open(image_path, \"rb\") as image_file:\n",
    "    return base64.b64encode(image_file.read()).decode('utf-8')\n"
   ]
  },
  {
   "cell_type": "code",
   "execution_count": null,
   "metadata": {},
   "outputs": [],
   "source": [
    "#get the responses from the API and store them in the responses list, and save each image path in a list as well\n",
    "images_folder = \"data\\imgs\"\n",
    "responses = []\n",
    "images_paths = []\n",
    "\n",
    "\n",
    "for image_name in os.listdir(images_folder):\n",
    "  #image path\n",
    "  image_path = os.path.join(images_folder, image_name)\n",
    "  #store the image in the images_paths list\n",
    "  images_paths.append(image_path)\n",
    "\n",
    "  #encoded image\n",
    "  base64_image = encode_image(image_path)\n",
    "\n",
    "  headers = {\n",
    "    \"Content-Type\": \"application/json\",\n",
    "    \"Authorization\": f\"Bearer {api_key}\"\n",
    "  }\n",
    "\n",
    "  payload = {\n",
    "    \"model\": \"gpt-4o\",\n",
    "    \"messages\": [\n",
    "      {\n",
    "        \"role\": \"user\",\n",
    "        \"content\": [\n",
    "          {\n",
    "            \"type\": \"text\",\n",
    "            #prompt\n",
    "            \"text\": \"\"\"[no prose]\n",
    "                      [Output Only JSON]\n",
    "                      I have car crash image I want you to take place as the effected parities, where your will write a description of the first party side, then write the other party description of their perspective. \n",
    "                      and do it in 4 scenarios \n",
    "                      1st: both parties say the truth.\n",
    "                      2nd: both parties laying\n",
    "                      3rd: first party is laying.\n",
    "                      4th: second party is laying\n",
    "                      (all in arabic)\n",
    "                      \n",
    "                      so end result will be in json format:\n",
    "                      {\n",
    "                        scenario_n:{\n",
    "\n",
    "                          first_party:\n",
    "\n",
    "                          second_party:\n",
    "                        },\n",
    "                      }\n",
    "                      \"\"\"\n",
    "          },\n",
    "          {\n",
    "            #include the image\n",
    "            \"type\": \"image_url\",\n",
    "            \"image_url\": {\n",
    "              \"url\": f\"data:image/jpeg;base64,{base64_image}\"\n",
    "            }\n",
    "          }\n",
    "        ]\n",
    "      }\n",
    "    ],\n",
    "    #number of tokens\n",
    "    \"max_tokens\": 650\n",
    "  }\n",
    "\n",
    "  response = requests.post(\"https://api.openai.com/v1/chat/completions\", headers=headers, json=payload)\n",
    "  print(response.json())\n",
    "  #store the response in responses list\n",
    "  responses.append(response.json())\n",
    "  \n",
    "  print(\"---------------------I AM HERE---------------------\")\n",
    "\n",
    "  # #get the descriptions content from the response\n",
    "  # response_dict = response.json()\n",
    "  # #extract the content\n",
    "  # content = response_dict['choices'][0]['message']['content']\n",
    "\n",
    "  # #clean the content string then turn it into json \n",
    "  # content = content.replace(\"```json\", \"\").replace(\"```\", \"\").strip()\n",
    "  # # content = content.replace('\",', '\"')\n",
    "  # descrip_json = json.loads(content)\n",
    "\n",
    "  # #Store the descriptions in the dataframe\n",
    "  # case_id = uuid.uuid4()\n",
    "\n",
    "  # for i in range(1, 5):\n",
    "  #     data = {\n",
    "  #         \"Case_ID\": case_id,\n",
    "  #         \"First_Party\": descrip_json[f'scenario_{i}']['first_party'],\n",
    "  #         \"Second_Party\": descrip_json[f'scenario_{i}']['second_party'],\n",
    "  #         \"Image_ID\": image_path\n",
    "  #     }\n",
    "\n",
    "  #     #create new row \n",
    "  #     new_row_df = pd.DataFrame([data])\n",
    "  #     #add the new row to the descrip dataframe\n",
    "  #     descrip_df = pd.concat([descrip_df, new_row_df], ignore_index=True)\n",
    "\n",
    "\n",
    "  # descrip_df.head(20)"
   ]
  },
  {
   "cell_type": "code",
   "execution_count": 84,
   "metadata": {},
   "outputs": [],
   "source": [
    "#Store the responses and images id's in the dataframe\n",
    "for r, img in zip(responses, images_paths):\n",
    "    #get the descriptions content from the response\n",
    "    response_dict = r\n",
    "    #extract the content\n",
    "    content = response_dict['choices'][0]['message']['content']\n",
    "\n",
    "    #clean the content string then turn it into json \n",
    "    content = content.replace(\"```json\",'').replace(\"```\",'').strip()\n",
    "    # content = content.replace('\",', '\"')\n",
    "    \n",
    "    descrip_json = json.loads(content)\n",
    "\n",
    "    if isinstance(descrip_json, list):\n",
    "        continue\n",
    "\n",
    "    #Store the descriptions in the dataframe\n",
    "    case_id = uuid.uuid4()\n",
    "\n",
    "    for i in range(1, 5):\n",
    "        data = {\n",
    "            \"Case_ID\": case_id,\n",
    "            \"First_Party\": descrip_json[f'scenario_{i}']['first_party'],\n",
    "            \"Second_Party\": descrip_json[f'scenario_{i}']['second_party'],\n",
    "            \"Image_ID\": img\n",
    "        }\n",
    "\n",
    "        #create new row \n",
    "        new_row_df = pd.DataFrame([data])\n",
    "        #add the new row to the descrip dataframe\n",
    "        descrip_df = pd.concat([descrip_df, new_row_df], ignore_index=True) "
   ]
  },
  {
   "cell_type": "code",
   "execution_count": 8,
   "metadata": {},
   "outputs": [],
   "source": [
    "# descrip_df.to_csv(\"data\\descriptions.csv\", index=False)"
   ]
  },
  {
   "cell_type": "markdown",
   "metadata": {},
   "source": [
    "### Get the fault assessment based on the generated descriptions using chat-gpt 4o model"
   ]
  },
  {
   "cell_type": "code",
   "execution_count": 51,
   "metadata": {},
   "outputs": [],
   "source": []
  }
 ],
 "metadata": {
  "kernelspec": {
   "display_name": "Python 3",
   "language": "python",
   "name": "python3"
  },
  "language_info": {
   "codemirror_mode": {
    "name": "ipython",
    "version": 3
   },
   "file_extension": ".py",
   "mimetype": "text/x-python",
   "name": "python",
   "nbconvert_exporter": "python",
   "pygments_lexer": "ipython3",
   "version": "3.11.4"
  }
 },
 "nbformat": 4,
 "nbformat_minor": 2
}
